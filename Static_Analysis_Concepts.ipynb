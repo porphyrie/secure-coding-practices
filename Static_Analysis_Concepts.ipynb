{
  "nbformat": 4,
  "nbformat_minor": 0,
  "metadata": {
    "colab": {
      "provenance": [],
      "authorship_tag": "ABX9TyOYbh3JciZEydklHHUvvomz",
      "include_colab_link": true
    },
    "kernelspec": {
      "name": "python3",
      "display_name": "Python 3"
    },
    "language_info": {
      "name": "python"
    }
  },
  "cells": [
    {
      "cell_type": "markdown",
      "metadata": {
        "id": "view-in-github",
        "colab_type": "text"
      },
      "source": [
        "<a href=\"https://colab.research.google.com/github/porphyrie/secure-coding-practices/blob/main/Static_Analysis_Concepts.ipynb\" target=\"_parent\"><img src=\"https://colab.research.google.com/assets/colab-badge.svg\" alt=\"Open In Colab\"/></a>"
      ]
    },
    {
      "cell_type": "code",
      "execution_count": null,
      "metadata": {
        "colab": {
          "base_uri": "https://localhost:8080/"
        },
        "id": "jg5scn7swNyg",
        "outputId": "af616a51-6aa9-4cc3-e933-a5409244348b"
      },
      "outputs": [
        {
          "output_type": "stream",
          "name": "stdout",
          "text": [
            "(ENCODING, 'utf-8', (0, 0))\n",
            "(NL, '\n",
            "', (1, 0))\n",
            "(NAME, 'def', (2, 0))\n",
            "(NAME, 'unsafe_query', (2, 4))\n",
            "(OP, '(', (2, 16))\n",
            "(NAME, 'user_input', (2, 17))\n",
            "(OP, ')', (2, 27))\n",
            "(OP, ':', (2, 28))\n",
            "(NEWLINE, '\n",
            "', (2, 29))\n",
            "(INDENT, '    ', (3, 0))\n",
            "(NAME, 'query', (3, 4))\n",
            "(OP, '=', (3, 10))\n",
            "(STRING, '\"SELECT * FROM users WHERE name = '\"', (3, 12))\n",
            "(OP, '+', (3, 49))\n",
            "(NAME, 'user_input', (3, 51))\n",
            "(OP, '+', (3, 62))\n",
            "(STRING, '\"'\"', (3, 64))\n",
            "(NEWLINE, '\n",
            "', (3, 67))\n",
            "(NAME, 'cursor', (4, 4))\n",
            "(OP, '.', (4, 10))\n",
            "(NAME, 'execute', (4, 11))\n",
            "(OP, '(', (4, 18))\n",
            "(NAME, 'query', (4, 19))\n",
            "(OP, ')', (4, 24))\n",
            "(NEWLINE, '\n",
            "', (4, 25))\n",
            "(DEDENT, '', (5, 0))\n",
            "(ENDMARKER, '', (5, 0))\n"
          ]
        }
      ],
      "source": [
        "import tokenize\n",
        "import io\n",
        "\n",
        "# source code to tokenize\n",
        "source_code = \"\"\"\n",
        "def unsafe_query(user_input):\n",
        "    query = \"SELECT * FROM users WHERE name = '\" + user_input + \"'\"\n",
        "    cursor.execute(query)\n",
        "\"\"\"\n",
        "\n",
        "# convert the source code to bytes and use io.BytesIO for a file-like interface\n",
        "source_bytes = io.BytesIO(source_code.encode('utf-8'))\n",
        "\n",
        "# tokenize and collect information\n",
        "tokens = tokenize.tokenize(source_bytes.readline)\n",
        "\n",
        "# print token information\n",
        "for token in tokens:\n",
        "    tok_type = tokenize.tok_name[token.type]\n",
        "    string = token.string\n",
        "    start = token.start\n",
        "    print(f\"({tok_type}, '{string}', {start})\")\n"
      ]
    },
    {
      "cell_type": "code",
      "source": [
        "import ast\n",
        "import graphviz\n",
        "\n",
        "# visitor class to traverse the AST nodes and create a Graphviz graph\n",
        "class ASTVisualizer(ast.NodeVisitor):\n",
        "    def __init__(self):\n",
        "        self.graph = graphviz.Digraph('AST', node_attr={'shape': 'box', 'color': 'lightblue2', 'style': 'filled'})\n",
        "        self.node_count = 0\n",
        "\n",
        "    def generic_visit(self, node):\n",
        "        label = type(node).__name__\n",
        "        # Create a unique node name using the count of nodes\n",
        "        node_name = f'node{self.node_count}'\n",
        "        self.node_count += 1\n",
        "\n",
        "        # Add the node to the graph with its label\n",
        "        self.graph.node(node_name, label=label)\n",
        "\n",
        "        # Visit all the child nodes\n",
        "        for field, value in ast.iter_fields(node):\n",
        "            if isinstance(value, list):\n",
        "                for item in value:\n",
        "                    if isinstance(item, ast.AST):\n",
        "                        child_name = self.generic_visit(item)\n",
        "                        self.graph.edge(node_name, child_name)\n",
        "            elif isinstance(value, ast.AST):\n",
        "                child_name = self.generic_visit(value)\n",
        "                self.graph.edge(node_name, child_name)\n",
        "\n",
        "        return node_name\n",
        "\n",
        "# source code to parse into an AST\n",
        "source_code = \"\"\"\n",
        "def unsafe_query(user_input):\n",
        "    query = \"SELECT * FROM users WHERE name = '\" + user_input + \"'\"\n",
        "    cursor.execute(query)\n",
        "\"\"\"\n",
        "\n",
        "# parse the source code into an AST\n",
        "parsed_ast = ast.parse(source_code)\n",
        "\n",
        "# instantiate the visualizer and visit the root of the AST\n",
        "visualizer = ASTVisualizer()\n",
        "visualizer.visit(parsed_ast)\n",
        "\n",
        "# render the graph\n",
        "visualizer.graph"
      ],
      "metadata": {
        "colab": {
          "base_uri": "https://localhost:8080/",
          "height": 655
        },
        "id": "BJ8gIa0ZGONf",
        "outputId": "9be2983d-9044-4d53-c6ba-f070817a95b6"
      },
      "execution_count": null,
      "outputs": [
        {
          "output_type": "execute_result",
          "data": {
            "image/svg+xml": "<?xml version=\"1.0\" encoding=\"UTF-8\" standalone=\"no\"?>\n<!DOCTYPE svg PUBLIC \"-//W3C//DTD SVG 1.1//EN\"\n \"http://www.w3.org/Graphics/SVG/1.1/DTD/svg11.dtd\">\n<!-- Generated by graphviz version 2.43.0 (0)\n -->\n<!-- Title: AST Pages: 1 -->\n<svg width=\"457pt\" height=\"476pt\"\n viewBox=\"0.00 0.00 456.50 476.00\" xmlns=\"http://www.w3.org/2000/svg\" xmlns:xlink=\"http://www.w3.org/1999/xlink\">\n<g id=\"graph0\" class=\"graph\" transform=\"scale(1 1) rotate(0) translate(4 472)\">\n<title>AST</title>\n<polygon fill=\"white\" stroke=\"transparent\" points=\"-4,4 -4,-472 452.5,-472 452.5,4 -4,4\"/>\n<!-- node0 -->\n<g id=\"node1\" class=\"node\">\n<title>node0</title>\n<polygon fill=\"#b2dfee\" stroke=\"#b2dfee\" points=\"196,-468 137,-468 137,-432 196,-432 196,-468\"/>\n<text text-anchor=\"middle\" x=\"166.5\" y=\"-446.3\" font-family=\"Times,serif\" font-size=\"14.00\">Module</text>\n</g>\n<!-- node1 -->\n<g id=\"node2\" class=\"node\">\n<title>node1</title>\n<polygon fill=\"#b2dfee\" stroke=\"#b2dfee\" points=\"209,-396 124,-396 124,-360 209,-360 209,-396\"/>\n<text text-anchor=\"middle\" x=\"166.5\" y=\"-374.3\" font-family=\"Times,serif\" font-size=\"14.00\">FunctionDef</text>\n</g>\n<!-- node0&#45;&gt;node1 -->\n<g id=\"edge22\" class=\"edge\">\n<title>node0&#45;&gt;node1</title>\n<path fill=\"none\" stroke=\"black\" d=\"M166.5,-431.7C166.5,-423.98 166.5,-414.71 166.5,-406.11\"/>\n<polygon fill=\"black\" stroke=\"black\" points=\"170,-406.1 166.5,-396.1 163,-406.1 170,-406.1\"/>\n</g>\n<!-- node2 -->\n<g id=\"node3\" class=\"node\">\n<title>node2</title>\n<polygon fill=\"#b2dfee\" stroke=\"#b2dfee\" points=\"106.5,-324 32.5,-324 32.5,-288 106.5,-288 106.5,-324\"/>\n<text text-anchor=\"middle\" x=\"69.5\" y=\"-302.3\" font-family=\"Times,serif\" font-size=\"14.00\">arguments</text>\n</g>\n<!-- node1&#45;&gt;node2 -->\n<g id=\"edge2\" class=\"edge\">\n<title>node1&#45;&gt;node2</title>\n<path fill=\"none\" stroke=\"black\" d=\"M142.52,-359.7C130.19,-350.8 114.98,-339.82 101.65,-330.2\"/>\n<polygon fill=\"black\" stroke=\"black\" points=\"103.36,-327.12 93.2,-324.1 99.26,-332.79 103.36,-327.12\"/>\n</g>\n<!-- node4 -->\n<g id=\"node5\" class=\"node\">\n<title>node4</title>\n<polygon fill=\"#b2dfee\" stroke=\"#b2dfee\" points=\"193.5,-324 139.5,-324 139.5,-288 193.5,-288 193.5,-324\"/>\n<text text-anchor=\"middle\" x=\"166.5\" y=\"-302.3\" font-family=\"Times,serif\" font-size=\"14.00\">Assign</text>\n</g>\n<!-- node1&#45;&gt;node4 -->\n<g id=\"edge13\" class=\"edge\">\n<title>node1&#45;&gt;node4</title>\n<path fill=\"none\" stroke=\"black\" d=\"M166.5,-359.7C166.5,-351.98 166.5,-342.71 166.5,-334.11\"/>\n<polygon fill=\"black\" stroke=\"black\" points=\"170,-334.1 166.5,-324.1 163,-334.1 170,-334.1\"/>\n</g>\n<!-- node15 -->\n<g id=\"node16\" class=\"node\">\n<title>node15</title>\n<polygon fill=\"#b2dfee\" stroke=\"#b2dfee\" points=\"317.5,-324 263.5,-324 263.5,-288 317.5,-288 317.5,-324\"/>\n<text text-anchor=\"middle\" x=\"290.5\" y=\"-302.3\" font-family=\"Times,serif\" font-size=\"14.00\">Expr</text>\n</g>\n<!-- node1&#45;&gt;node15 -->\n<g id=\"edge21\" class=\"edge\">\n<title>node1&#45;&gt;node15</title>\n<path fill=\"none\" stroke=\"black\" d=\"M196.83,-359.88C214.25,-350.04 236.23,-337.64 254.52,-327.31\"/>\n<polygon fill=\"black\" stroke=\"black\" points=\"256.45,-330.24 263.43,-322.28 253,-324.15 256.45,-330.24\"/>\n</g>\n<!-- node3 -->\n<g id=\"node4\" class=\"node\">\n<title>node3</title>\n<polygon fill=\"#b2dfee\" stroke=\"#b2dfee\" points=\"65.5,-252 11.5,-252 11.5,-216 65.5,-216 65.5,-252\"/>\n<text text-anchor=\"middle\" x=\"38.5\" y=\"-230.3\" font-family=\"Times,serif\" font-size=\"14.00\">arg</text>\n</g>\n<!-- node2&#45;&gt;node3 -->\n<g id=\"edge1\" class=\"edge\">\n<title>node2&#45;&gt;node3</title>\n<path fill=\"none\" stroke=\"black\" d=\"M61.84,-287.7C58.31,-279.73 54.04,-270.1 50.13,-261.26\"/>\n<polygon fill=\"black\" stroke=\"black\" points=\"53.32,-259.83 46.07,-252.1 46.92,-262.67 53.32,-259.83\"/>\n</g>\n<!-- node5 -->\n<g id=\"node6\" class=\"node\">\n<title>node5</title>\n<polygon fill=\"#b2dfee\" stroke=\"#b2dfee\" points=\"137.5,-252 83.5,-252 83.5,-216 137.5,-216 137.5,-252\"/>\n<text text-anchor=\"middle\" x=\"110.5\" y=\"-230.3\" font-family=\"Times,serif\" font-size=\"14.00\">Name</text>\n</g>\n<!-- node4&#45;&gt;node5 -->\n<g id=\"edge4\" class=\"edge\">\n<title>node4&#45;&gt;node5</title>\n<path fill=\"none\" stroke=\"black\" d=\"M152.66,-287.7C146.01,-279.39 137.92,-269.28 130.61,-260.14\"/>\n<polygon fill=\"black\" stroke=\"black\" points=\"133.16,-257.73 124.18,-252.1 127.7,-262.1 133.16,-257.73\"/>\n</g>\n<!-- node7 -->\n<g id=\"node8\" class=\"node\">\n<title>node7</title>\n<polygon fill=\"#b2dfee\" stroke=\"#b2dfee\" points=\"209.5,-252 155.5,-252 155.5,-216 209.5,-216 209.5,-252\"/>\n<text text-anchor=\"middle\" x=\"182.5\" y=\"-230.3\" font-family=\"Times,serif\" font-size=\"14.00\">BinOp</text>\n</g>\n<!-- node4&#45;&gt;node7 -->\n<g id=\"edge12\" class=\"edge\">\n<title>node4&#45;&gt;node7</title>\n<path fill=\"none\" stroke=\"black\" d=\"M170.46,-287.7C172.22,-279.98 174.34,-270.71 176.3,-262.11\"/>\n<polygon fill=\"black\" stroke=\"black\" points=\"179.77,-262.63 178.59,-252.1 172.95,-261.07 179.77,-262.63\"/>\n</g>\n<!-- node6 -->\n<g id=\"node7\" class=\"node\">\n<title>node6</title>\n<polygon fill=\"#b2dfee\" stroke=\"#b2dfee\" points=\"65.5,-180 11.5,-180 11.5,-144 65.5,-144 65.5,-180\"/>\n<text text-anchor=\"middle\" x=\"38.5\" y=\"-158.3\" font-family=\"Times,serif\" font-size=\"14.00\">Store</text>\n</g>\n<!-- node5&#45;&gt;node6 -->\n<g id=\"edge3\" class=\"edge\">\n<title>node5&#45;&gt;node6</title>\n<path fill=\"none\" stroke=\"black\" d=\"M92.7,-215.7C83.9,-207.14 73.12,-196.66 63.5,-187.3\"/>\n<polygon fill=\"black\" stroke=\"black\" points=\"65.7,-184.57 56.09,-180.1 60.82,-189.58 65.7,-184.57\"/>\n</g>\n<!-- node8 -->\n<g id=\"node9\" class=\"node\">\n<title>node8</title>\n<polygon fill=\"#b2dfee\" stroke=\"#b2dfee\" points=\"137.5,-180 83.5,-180 83.5,-144 137.5,-144 137.5,-180\"/>\n<text text-anchor=\"middle\" x=\"110.5\" y=\"-158.3\" font-family=\"Times,serif\" font-size=\"14.00\">BinOp</text>\n</g>\n<!-- node7&#45;&gt;node8 -->\n<g id=\"edge9\" class=\"edge\">\n<title>node7&#45;&gt;node8</title>\n<path fill=\"none\" stroke=\"black\" d=\"M164.7,-215.7C155.9,-207.14 145.12,-196.66 135.5,-187.3\"/>\n<polygon fill=\"black\" stroke=\"black\" points=\"137.7,-184.57 128.09,-180.1 132.82,-189.58 137.7,-184.57\"/>\n</g>\n<!-- node13 -->\n<g id=\"node14\" class=\"node\">\n<title>node13</title>\n<polygon fill=\"#b2dfee\" stroke=\"#b2dfee\" points=\"209.5,-180 155.5,-180 155.5,-144 209.5,-144 209.5,-180\"/>\n<text text-anchor=\"middle\" x=\"182.5\" y=\"-158.3\" font-family=\"Times,serif\" font-size=\"14.00\">Add</text>\n</g>\n<!-- node7&#45;&gt;node13 -->\n<g id=\"edge10\" class=\"edge\">\n<title>node7&#45;&gt;node13</title>\n<path fill=\"none\" stroke=\"black\" d=\"M182.5,-215.7C182.5,-207.98 182.5,-198.71 182.5,-190.11\"/>\n<polygon fill=\"black\" stroke=\"black\" points=\"186,-190.1 182.5,-180.1 179,-190.1 186,-190.1\"/>\n</g>\n<!-- node14 -->\n<g id=\"node15\" class=\"node\">\n<title>node14</title>\n<polygon fill=\"#b2dfee\" stroke=\"#b2dfee\" points=\"293,-180 228,-180 228,-144 293,-144 293,-180\"/>\n<text text-anchor=\"middle\" x=\"260.5\" y=\"-158.3\" font-family=\"Times,serif\" font-size=\"14.00\">Constant</text>\n</g>\n<!-- node7&#45;&gt;node14 -->\n<g id=\"edge11\" class=\"edge\">\n<title>node7&#45;&gt;node14</title>\n<path fill=\"none\" stroke=\"black\" d=\"M201.78,-215.7C211.42,-207.05 223.23,-196.45 233.73,-187.03\"/>\n<polygon fill=\"black\" stroke=\"black\" points=\"236.34,-189.39 241.44,-180.1 231.66,-184.18 236.34,-189.39\"/>\n</g>\n<!-- node9 -->\n<g id=\"node10\" class=\"node\">\n<title>node9</title>\n<polygon fill=\"#b2dfee\" stroke=\"#b2dfee\" points=\"65,-108 0,-108 0,-72 65,-72 65,-108\"/>\n<text text-anchor=\"middle\" x=\"32.5\" y=\"-86.3\" font-family=\"Times,serif\" font-size=\"14.00\">Constant</text>\n</g>\n<!-- node8&#45;&gt;node9 -->\n<g id=\"edge5\" class=\"edge\">\n<title>node8&#45;&gt;node9</title>\n<path fill=\"none\" stroke=\"black\" d=\"M91.22,-143.7C81.58,-135.05 69.77,-124.45 59.27,-115.03\"/>\n<polygon fill=\"black\" stroke=\"black\" points=\"61.34,-112.18 51.56,-108.1 56.66,-117.39 61.34,-112.18\"/>\n</g>\n<!-- node10 -->\n<g id=\"node11\" class=\"node\">\n<title>node10</title>\n<polygon fill=\"#b2dfee\" stroke=\"#b2dfee\" points=\"137.5,-108 83.5,-108 83.5,-72 137.5,-72 137.5,-108\"/>\n<text text-anchor=\"middle\" x=\"110.5\" y=\"-86.3\" font-family=\"Times,serif\" font-size=\"14.00\">Add</text>\n</g>\n<!-- node8&#45;&gt;node10 -->\n<g id=\"edge6\" class=\"edge\">\n<title>node8&#45;&gt;node10</title>\n<path fill=\"none\" stroke=\"black\" d=\"M110.5,-143.7C110.5,-135.98 110.5,-126.71 110.5,-118.11\"/>\n<polygon fill=\"black\" stroke=\"black\" points=\"114,-118.1 110.5,-108.1 107,-118.1 114,-118.1\"/>\n</g>\n<!-- node11 -->\n<g id=\"node12\" class=\"node\">\n<title>node11</title>\n<polygon fill=\"#b2dfee\" stroke=\"#b2dfee\" points=\"209.5,-108 155.5,-108 155.5,-72 209.5,-72 209.5,-108\"/>\n<text text-anchor=\"middle\" x=\"182.5\" y=\"-86.3\" font-family=\"Times,serif\" font-size=\"14.00\">Name</text>\n</g>\n<!-- node8&#45;&gt;node11 -->\n<g id=\"edge8\" class=\"edge\">\n<title>node8&#45;&gt;node11</title>\n<path fill=\"none\" stroke=\"black\" d=\"M128.3,-143.7C137.1,-135.14 147.88,-124.66 157.5,-115.3\"/>\n<polygon fill=\"black\" stroke=\"black\" points=\"160.18,-117.58 164.91,-108.1 155.3,-112.57 160.18,-117.58\"/>\n</g>\n<!-- node12 -->\n<g id=\"node13\" class=\"node\">\n<title>node12</title>\n<polygon fill=\"#b2dfee\" stroke=\"#b2dfee\" points=\"209.5,-36 155.5,-36 155.5,0 209.5,0 209.5,-36\"/>\n<text text-anchor=\"middle\" x=\"182.5\" y=\"-14.3\" font-family=\"Times,serif\" font-size=\"14.00\">Load</text>\n</g>\n<!-- node11&#45;&gt;node12 -->\n<g id=\"edge7\" class=\"edge\">\n<title>node11&#45;&gt;node12</title>\n<path fill=\"none\" stroke=\"black\" d=\"M182.5,-71.7C182.5,-63.98 182.5,-54.71 182.5,-46.11\"/>\n<polygon fill=\"black\" stroke=\"black\" points=\"186,-46.1 182.5,-36.1 179,-46.1 186,-46.1\"/>\n</g>\n<!-- node16 -->\n<g id=\"node17\" class=\"node\">\n<title>node16</title>\n<polygon fill=\"#b2dfee\" stroke=\"#b2dfee\" points=\"370.5,-252 316.5,-252 316.5,-216 370.5,-216 370.5,-252\"/>\n<text text-anchor=\"middle\" x=\"343.5\" y=\"-230.3\" font-family=\"Times,serif\" font-size=\"14.00\">Call</text>\n</g>\n<!-- node15&#45;&gt;node16 -->\n<g id=\"edge20\" class=\"edge\">\n<title>node15&#45;&gt;node16</title>\n<path fill=\"none\" stroke=\"black\" d=\"M303.6,-287.7C309.89,-279.39 317.55,-269.28 324.46,-260.14\"/>\n<polygon fill=\"black\" stroke=\"black\" points=\"327.3,-262.19 330.55,-252.1 321.72,-257.96 327.3,-262.19\"/>\n</g>\n<!-- node17 -->\n<g id=\"node18\" class=\"node\">\n<title>node17</title>\n<polygon fill=\"#b2dfee\" stroke=\"#b2dfee\" points=\"376,-180 311,-180 311,-144 376,-144 376,-180\"/>\n<text text-anchor=\"middle\" x=\"343.5\" y=\"-158.3\" font-family=\"Times,serif\" font-size=\"14.00\">Attribute</text>\n</g>\n<!-- node16&#45;&gt;node17 -->\n<g id=\"edge17\" class=\"edge\">\n<title>node16&#45;&gt;node17</title>\n<path fill=\"none\" stroke=\"black\" d=\"M343.5,-215.7C343.5,-207.98 343.5,-198.71 343.5,-190.11\"/>\n<polygon fill=\"black\" stroke=\"black\" points=\"347,-190.1 343.5,-180.1 340,-190.1 347,-190.1\"/>\n</g>\n<!-- node21 -->\n<g id=\"node22\" class=\"node\">\n<title>node21</title>\n<polygon fill=\"#b2dfee\" stroke=\"#b2dfee\" points=\"448.5,-180 394.5,-180 394.5,-144 448.5,-144 448.5,-180\"/>\n<text text-anchor=\"middle\" x=\"421.5\" y=\"-158.3\" font-family=\"Times,serif\" font-size=\"14.00\">Name</text>\n</g>\n<!-- node16&#45;&gt;node21 -->\n<g id=\"edge19\" class=\"edge\">\n<title>node16&#45;&gt;node21</title>\n<path fill=\"none\" stroke=\"black\" d=\"M362.78,-215.7C372.42,-207.05 384.23,-196.45 394.73,-187.03\"/>\n<polygon fill=\"black\" stroke=\"black\" points=\"397.34,-189.39 402.44,-180.1 392.66,-184.18 397.34,-189.39\"/>\n</g>\n<!-- node18 -->\n<g id=\"node19\" class=\"node\">\n<title>node18</title>\n<polygon fill=\"#b2dfee\" stroke=\"#b2dfee\" points=\"301.5,-108 247.5,-108 247.5,-72 301.5,-72 301.5,-108\"/>\n<text text-anchor=\"middle\" x=\"274.5\" y=\"-86.3\" font-family=\"Times,serif\" font-size=\"14.00\">Name</text>\n</g>\n<!-- node17&#45;&gt;node18 -->\n<g id=\"edge15\" class=\"edge\">\n<title>node17&#45;&gt;node18</title>\n<path fill=\"none\" stroke=\"black\" d=\"M326.44,-143.7C318,-135.14 307.68,-124.66 298.46,-115.3\"/>\n<polygon fill=\"black\" stroke=\"black\" points=\"300.87,-112.77 291.36,-108.1 295.89,-117.68 300.87,-112.77\"/>\n</g>\n<!-- node20 -->\n<g id=\"node21\" class=\"node\">\n<title>node20</title>\n<polygon fill=\"#b2dfee\" stroke=\"#b2dfee\" points=\"373.5,-108 319.5,-108 319.5,-72 373.5,-72 373.5,-108\"/>\n<text text-anchor=\"middle\" x=\"346.5\" y=\"-86.3\" font-family=\"Times,serif\" font-size=\"14.00\">Load</text>\n</g>\n<!-- node17&#45;&gt;node20 -->\n<g id=\"edge16\" class=\"edge\">\n<title>node17&#45;&gt;node20</title>\n<path fill=\"none\" stroke=\"black\" d=\"M344.24,-143.7C344.57,-135.98 344.97,-126.71 345.34,-118.11\"/>\n<polygon fill=\"black\" stroke=\"black\" points=\"348.84,-118.25 345.77,-108.1 341.84,-117.95 348.84,-118.25\"/>\n</g>\n<!-- node19 -->\n<g id=\"node20\" class=\"node\">\n<title>node19</title>\n<polygon fill=\"#b2dfee\" stroke=\"#b2dfee\" points=\"301.5,-36 247.5,-36 247.5,0 301.5,0 301.5,-36\"/>\n<text text-anchor=\"middle\" x=\"274.5\" y=\"-14.3\" font-family=\"Times,serif\" font-size=\"14.00\">Load</text>\n</g>\n<!-- node18&#45;&gt;node19 -->\n<g id=\"edge14\" class=\"edge\">\n<title>node18&#45;&gt;node19</title>\n<path fill=\"none\" stroke=\"black\" d=\"M274.5,-71.7C274.5,-63.98 274.5,-54.71 274.5,-46.11\"/>\n<polygon fill=\"black\" stroke=\"black\" points=\"278,-46.1 274.5,-36.1 271,-46.1 278,-46.1\"/>\n</g>\n<!-- node22 -->\n<g id=\"node23\" class=\"node\">\n<title>node22</title>\n<polygon fill=\"#b2dfee\" stroke=\"#b2dfee\" points=\"448.5,-108 394.5,-108 394.5,-72 448.5,-72 448.5,-108\"/>\n<text text-anchor=\"middle\" x=\"421.5\" y=\"-86.3\" font-family=\"Times,serif\" font-size=\"14.00\">Load</text>\n</g>\n<!-- node21&#45;&gt;node22 -->\n<g id=\"edge18\" class=\"edge\">\n<title>node21&#45;&gt;node22</title>\n<path fill=\"none\" stroke=\"black\" d=\"M421.5,-143.7C421.5,-135.98 421.5,-126.71 421.5,-118.11\"/>\n<polygon fill=\"black\" stroke=\"black\" points=\"425,-118.1 421.5,-108.1 418,-118.1 425,-118.1\"/>\n</g>\n</g>\n</svg>\n",
            "text/plain": [
              "<graphviz.graphs.Digraph at 0x7e8c7d79e620>"
            ]
          },
          "metadata": {},
          "execution_count": 13
        }
      ]
    },
    {
      "cell_type": "markdown",
      "source": [
        "SIMPLE DETECTION OF STRING CONCATENATION"
      ],
      "metadata": {
        "id": "QoT50bUnVYOb"
      }
    },
    {
      "cell_type": "code",
      "source": [
        "import ast\n",
        "\n",
        "class SQLInjectionDetector(ast.NodeVisitor):\n",
        "    def visit_BinOp(self, node):\n",
        "        # check if this binary operation is string concatenation\n",
        "        if isinstance(node.op, ast.Add):\n",
        "            # check if one of the operands is a Str node (simple case)\n",
        "            if isinstance(node.left, ast.Str) or isinstance(node.right, ast.Str):\n",
        "                print(f\"Potential SQL injection vulnerability detected at line {node.lineno}\")\n",
        "        # continue traversing the AST\n",
        "        self.generic_visit(node)\n",
        "\n",
        "# example code to analyze\n",
        "source_code = \"\"\"\n",
        "def unsafe_query(user_input):\n",
        "    query = \"SELECT * FROM users WHERE name = '\" + user_input + \"'\"\n",
        "    cursor.execute(query)\n",
        "\"\"\"\n",
        "\n",
        "# parse the source code into an AST\n",
        "parsed_code = ast.parse(source_code)\n",
        "\n",
        "# create an instance of our detector and visit the AST\n",
        "detector = SQLInjectionDetector()\n",
        "detector.visit(parsed_code)\n"
      ],
      "metadata": {
        "colab": {
          "base_uri": "https://localhost:8080/"
        },
        "id": "v_wdWvKlUgcE",
        "outputId": "9608dd8c-d552-459b-95de-cffbdc1e8aeb"
      },
      "execution_count": null,
      "outputs": [
        {
          "output_type": "stream",
          "name": "stdout",
          "text": [
            "Potential SQL injection vulnerability detected at line 3\n",
            "Potential SQL injection vulnerability detected at line 3\n"
          ]
        }
      ]
    },
    {
      "cell_type": "markdown",
      "source": [
        "SIMPLE DETECTION OF STRING CONCATENATION, STRING FORMATTING"
      ],
      "metadata": {
        "id": "Bcg1u-iLVe9T"
      }
    },
    {
      "cell_type": "code",
      "source": [
        "import ast\n",
        "\n",
        "class SQLInjectionDetector(ast.NodeVisitor):\n",
        "    def visit_BinOp(self, node):\n",
        "        # check for % formatting in addition to concatenation\n",
        "        if isinstance(node.op, (ast.Add, ast.Mod)) and self._is_string(node.left):\n",
        "            print(f\"Potential SQL injection vulnerability detected (using % or +) at line {node.lineno}\")\n",
        "        self.generic_visit(node)\n",
        "\n",
        "    def visit_Call(self, node):\n",
        "        # check for str.format()\n",
        "        if isinstance(node.func, ast.Attribute) and node.func.attr == 'format' and self._is_string(node.func.value):\n",
        "            print(f\"Potential SQL injection vulnerability detected (using str.format) at line {node.lineno}\")\n",
        "        self.generic_visit(node)\n",
        "\n",
        "    def visit_JoinedStr(self, node):\n",
        "        # basic check for f-strings, more complex analysis needed for real cases\n",
        "        print(f\"Potential SQL injection vulnerability detected (using f-string) at line {node.lineno}\")\n",
        "        self.generic_visit(node)\n",
        "\n",
        "    def _is_string(self, node):\n",
        "        return isinstance(node, (ast.Str, ast.Constant)) and isinstance(node.value, str)\n",
        "\n",
        "# example code to analyze, including different string formatting methods\n",
        "source_code = \"\"\"\n",
        "def unsafe_query_format(user_input):\n",
        "    query = \"SELECT * FROM users WHERE name = '{}'.format(user_input)\"\n",
        "    cursor.execute(query)\n",
        "\n",
        "def unsafe_query_mod(user_input):\n",
        "    query = \"SELECT * FROM users WHERE name = '%s' % user_input\"\n",
        "    cursor.execute(query)\n",
        "\n",
        "def unsafe_query_fstring(user_input):\n",
        "    query = f\"SELECT * FROM users WHERE name = '{user_input}'\"\n",
        "    cursor.execute(query)\n",
        "\"\"\"\n",
        "\n",
        "# parse the source code into an AST\n",
        "parsed_code = ast.parse(source_code)\n",
        "\n",
        "# create an instance of our detector and visit the AST\n",
        "detector = SQLInjectionDetector()\n",
        "detector.visit(parsed_code)"
      ],
      "metadata": {
        "colab": {
          "base_uri": "https://localhost:8080/"
        },
        "id": "F0nOPx6rUi-u",
        "outputId": "95412658-e85c-46ae-be97-060047c27872"
      },
      "execution_count": null,
      "outputs": [
        {
          "output_type": "stream",
          "name": "stdout",
          "text": [
            "Potential SQL injection vulnerability detected (using f-string) at line 11\n"
          ]
        }
      ]
    },
    {
      "cell_type": "markdown",
      "source": [
        "TAINT DETECTION"
      ],
      "metadata": {
        "id": "N9ipiZ5DVWYD"
      }
    },
    {
      "cell_type": "code",
      "source": [
        "import ast\n",
        "\n",
        "class SQLInjectionDetector(ast.NodeVisitor):\n",
        "    def __init__(self):\n",
        "        super().__init__()\n",
        "        self.tainted_variables = set()\n",
        "\n",
        "    def visit_Call(self, node):\n",
        "        # simplistic way to mark user input as tainted\n",
        "        if isinstance(node.func, ast.Name) and node.func.id == 'input':\n",
        "            if isinstance(node.parent, ast.Assign):\n",
        "                for target in node.parent.targets:\n",
        "                    if isinstance(target, ast.Name):\n",
        "                        self.tainted_variables.add(target.id)\n",
        "        self.generic_visit(node)\n",
        "\n",
        "    def visit_BinOp(self, node):\n",
        "        if isinstance(node.op, ast.Add):\n",
        "            if self._is_tainted(node.left) or self._is_tainted(node.right):\n",
        "                print(f\"Potential SQL injection vulnerability detected at line {node.lineno}\")\n",
        "        self.generic_visit(node)\n",
        "\n",
        "    def _is_tainted(self, node):\n",
        "        if isinstance(node, ast.Name) and node.id in self.tainted_variables:\n",
        "            return True\n",
        "        return False\n",
        "\n",
        "    def visit(self, node):\n",
        "        # custom visit to set parent nodes, simplistic\n",
        "        for child in ast.iter_child_nodes(node):\n",
        "            child.parent = node\n",
        "        super().visit(node)\n",
        "\n",
        "# example code to analyze\n",
        "source_code = \"\"\"\n",
        "user_input = input(\"Enter your name: \")\n",
        "query = \"SELECT * FROM users WHERE name = '\" + user_input + \"'\"\n",
        "\"\"\"\n",
        "\n",
        "# parse the source code into an AST\n",
        "parsed_code = ast.parse(source_code)\n",
        "\n",
        "# create an instance of our detector and visit the AST\n",
        "detector = SQLInjectionDetector()\n",
        "detector.visit(parsed_code)\n"
      ],
      "metadata": {
        "colab": {
          "base_uri": "https://localhost:8080/"
        },
        "id": "yxz6aKmfU-rM",
        "outputId": "966e1c81-2043-4e18-f05d-024c658bc3f8"
      },
      "execution_count": null,
      "outputs": [
        {
          "output_type": "stream",
          "name": "stdout",
          "text": [
            "Potential SQL injection vulnerability detected at line 3\n"
          ]
        }
      ]
    },
    {
      "cell_type": "markdown",
      "source": [
        "TAINT AND SANITIZATION DETECTION"
      ],
      "metadata": {
        "id": "vBarM-ChVT2V"
      }
    },
    {
      "cell_type": "code",
      "source": [
        "import ast\n",
        "\n",
        "class SQLInjectionDetector(ast.NodeVisitor):\n",
        "    def __init__(self):\n",
        "        super().__init__()\n",
        "        # track both tainted and sanitized variables\n",
        "        self.tainted_variables = set()\n",
        "        self.sanitized_variables = set()\n",
        "\n",
        "    def visit_Call(self, node):\n",
        "        # mark variables as tainted when receiving user input\n",
        "        if isinstance(node.func, ast.Name) and node.func.id in ['input', 'secure_input']:\n",
        "            if isinstance(node.parent, ast.Assign):\n",
        "                for target in node.parent.targets:\n",
        "                    if isinstance(target, ast.Name):\n",
        "                        if node.func.id == 'input':\n",
        "                            self.tainted_variables.add(target.id)\n",
        "                        # Assume secure_input is safe and does not taint the variable\n",
        "        # check for sanitization\n",
        "        elif isinstance(node.func, ast.Name) and node.func.id == 'sanitize_input':\n",
        "            if isinstance(node.parent, ast.Assign):\n",
        "                for target in node.parent.targets:\n",
        "                    if isinstance(target, ast.Name):\n",
        "                        self.sanitized_variables.add(target.id)\n",
        "                        # Remove from tainted if it's sanitized\n",
        "                        if target.id in self.tainted_variables:\n",
        "                            self.tainted_variables.remove(target.id)\n",
        "        self.generic_visit(node)\n",
        "\n",
        "    def visit_BinOp(self, node):\n",
        "        if isinstance(node.op, ast.Add):\n",
        "            if self._is_tainted(node.left) or self._is_tainted(node.right):\n",
        "                print(f\"Potential SQL injection vulnerability detected at line {node.lineno}\")\n",
        "        self.generic_visit(node)\n",
        "\n",
        "    def _is_tainted(self, node):\n",
        "        # check if the variable is tainted and not sanitized\n",
        "        if isinstance(node, ast.Name):\n",
        "            return node.id in self.tainted_variables and node.id not in self.sanitized_variables\n",
        "        return False\n",
        "\n",
        "    def visit(self, node):\n",
        "        # custom visit to set parent nodes, simplistic\n",
        "        for child in ast.iter_child_nodes(node):\n",
        "            child.parent = node\n",
        "        super().visit(node)\n",
        "\n",
        "# example code to analyze\n",
        "source_code = \"\"\"\n",
        "user_input = input(\"Enter your name: \")\n",
        "safe_input = sanitize_input(user_input)\n",
        "query = \"SELECT * FROM users WHERE name = '\" + user_input + \"'\"  # This should be flagged\n",
        "safe_query = \"SELECT * FROM users WHERE name = '\" + safe_input + \"'\"  # This should not\n",
        "\"\"\"\n",
        "\n",
        "# parse the source code into an AST\n",
        "parsed_code = ast.parse(source_code)\n",
        "\n",
        "# create an instance of our detector and visit the AST\n",
        "detector = SQLInjectionDetector()\n",
        "detector.visit(parsed_code)"
      ],
      "metadata": {
        "colab": {
          "base_uri": "https://localhost:8080/"
        },
        "id": "dT_3AzO1VPS8",
        "outputId": "573a226b-5a97-4d0a-c794-ab5b7e21632b"
      },
      "execution_count": null,
      "outputs": [
        {
          "output_type": "stream",
          "name": "stdout",
          "text": [
            "Potential SQL injection vulnerability detected at line 4\n"
          ]
        }
      ]
    },
    {
      "cell_type": "markdown",
      "source": [
        "ALL CONCEPTS"
      ],
      "metadata": {
        "id": "X6MNX5AxVtIT"
      }
    },
    {
      "cell_type": "code",
      "source": [
        "import ast\n",
        "\n",
        "class SQLInjectionDetector(ast.NodeVisitor):\n",
        "    def __init__(self):\n",
        "        super().__init__()\n",
        "        self.tainted_variables = set()\n",
        "        self.sanitized_variables = set()\n",
        "\n",
        "    def visit_Assign(self, node):\n",
        "        # Track assignments to propagate taint and sanitization status\n",
        "        if isinstance(node.value, ast.Call) and isinstance(node.value.func, ast.Name):\n",
        "            # If the right-hand side is a call to the input function, mark the variable as tainted\n",
        "            if node.value.func.id == 'input':\n",
        "                for target in node.targets:\n",
        "                    if isinstance(target, ast.Name):\n",
        "                        self.tainted_variables.add(target.id)\n",
        "            # If the right-hand side is a call to the sanitize_input function, mark as sanitized\n",
        "            elif node.value.func.id == 'sanitize_input':\n",
        "                for target in node.targets:\n",
        "                    if isinstance(target, ast.Name):\n",
        "                        self.sanitized_variables.add(target.id)\n",
        "                        # Remove from tainted if it was previously marked\n",
        "                        if target.id in self.tainted_variables:\n",
        "                            self.tainted_variables.remove(target.id)\n",
        "        self.generic_visit(node)\n",
        "\n",
        "    def visit_Call(self, node):\n",
        "        # Flag calls to vulnerable patterns if they involve tainted variables\n",
        "        if isinstance(node.func, ast.Name) and node.func.id in ['unsafe_query', 'safe_query']:\n",
        "            if any(self._is_tainted(arg) for arg in node.args):\n",
        "                # For `unsafe_query`, flag if arguments are tainted\n",
        "                if node.func.id == 'unsafe_query':\n",
        "                    self._flag_vulnerability(node)\n",
        "                # For `safe_query`, also flag if the argument hasn't been sanitized\n",
        "                elif node.func.id == 'safe_query' and not self._is_sanitized(node.args[0]):\n",
        "                    self._flag_vulnerability(node)\n",
        "        self.generic_visit(node)\n",
        "\n",
        "    def _is_tainted(self, node):\n",
        "        # Check if a node (variable) is marked as tainted\n",
        "        return isinstance(node, ast.Name) and node.id in self.tainted_variables\n",
        "\n",
        "    def _is_sanitized(self, node):\n",
        "        # Check if a node (variable) is marked as sanitized\n",
        "        return isinstance(node, ast.Name) and node.id in self.sanitized_variables\n",
        "\n",
        "    def _flag_vulnerability(self, node):\n",
        "        # Print a message flagging potential vulnerability\n",
        "        print(f\"Potential SQL injection vulnerability detected at line {node.lineno}\")\n",
        "\n",
        "# Define functions to represent different handling of user input\n",
        "source_code = \"\"\"\n",
        "def unsafe_query(user_input):\n",
        "    # Direct concatenation, unsafe\n",
        "    return \"SELECT * FROM users WHERE name = '\" + user_input + \"'\"\n",
        "\n",
        "def safe_query(user_input):\n",
        "    # Uses sanitization, safer\n",
        "    sanitized_input = sanitize_input(user_input)\n",
        "    return \"SELECT * FROM users WHERE name = '{}'\".format(sanitized_input)\n",
        "\n",
        "def sanitize_input(value):\n",
        "    # Placeholder for input sanitization logic\n",
        "    return value.replace(\"'\", \"''\")\n",
        "\n",
        "user_input = input(\"Enter your name: \")\n",
        "query1 = unsafe_query(user_input)  # This should be flagged\n",
        "query2 = safe_query(user_input)    # This should not be flagged if sanitize_input is effective\n",
        "\"\"\"\n",
        "\n",
        "# Parse the source code into an AST\n",
        "parsed_code = ast.parse(source_code)\n",
        "\n",
        "# Create an instance of our detector and visit the AST\n",
        "detector = SQLInjectionDetector()\n",
        "detector.visit(parsed_code)"
      ],
      "metadata": {
        "colab": {
          "base_uri": "https://localhost:8080/"
        },
        "id": "Qbdn9lf3VlAK",
        "outputId": "46c4dcfa-8bf4-47d0-d7b5-42b1a7cbbab1"
      },
      "execution_count": null,
      "outputs": [
        {
          "output_type": "stream",
          "name": "stdout",
          "text": [
            "Potential SQL injection vulnerability detected at line 16\n",
            "Potential SQL injection vulnerability detected at line 17\n"
          ]
        }
      ]
    },
    {
      "cell_type": "markdown",
      "source": [],
      "metadata": {
        "id": "FvzBnrXFVx-M"
      }
    },
    {
      "cell_type": "code",
      "source": [
        "class Token:\n",
        "    def __init__(self, type_, value):\n",
        "        self.type = type_\n",
        "        self.value = value\n",
        "\n",
        "class TreeNode:\n",
        "    def __init__(self, data):\n",
        "        self.data = data\n",
        "        self.children = []\n",
        "\n",
        "    def add_child(self, child):\n",
        "        self.children.append(child)\n",
        "\n",
        "class Parser:\n",
        "    def __init__(self, tokens):\n",
        "        self.tokens = tokens\n",
        "        self.current_index = 0\n",
        "        self.current_token = self.tokens[self.current_index] if self.tokens else None\n",
        "        self.ast = TreeNode(\"Program\")  # Root node of the AST\n",
        "\n",
        "    def advance(self):\n",
        "        self.current_index += 1\n",
        "        if self.current_index < len(self.tokens):\n",
        "            self.current_token = self.tokens[self.current_index]\n",
        "        else:\n",
        "            self.current_token = Token(\"ENDMARKER\", \"\")\n",
        "\n",
        "    def error(self, message):\n",
        "        raise Exception(f\"Error at token {self.current_token.value}: {message}\")\n",
        "\n",
        "    def match(self, expected_type, expected_value=None):\n",
        "        if self.current_token and self.current_token.type == expected_type:\n",
        "            if expected_value is None or self.current_token.value == expected_value:\n",
        "                self.advance()\n",
        "            else:\n",
        "                self.error(f\"Expected token value '{expected_value}', found '{self.current_token.value}'\")\n",
        "        else:\n",
        "            self.error(f\"Expected token type '{expected_type}', found '{self.current_token.type}'\")\n",
        "\n",
        "    def file_input(self):\n",
        "        while self.current_token.type != \"ENDMARKER\":\n",
        "            node = self.stmt()\n",
        "            if node:  # Only add non-None nodes (e.g., for empty lines)\n",
        "                self.ast.add_child(node)\n",
        "        return self.ast  # Return the AST after parsing the whole input\n",
        "\n",
        "    def stmt(self):\n",
        "        if self.current_token.type == \"NEWLINE\":\n",
        "            self.advance()  # Skip empty lines\n",
        "            return None  # No AST node for empty lines\n",
        "        elif self.current_token.type == \"NAME\":\n",
        "            if self.current_token.value in {\"def\", \"if\", \"while\", \"for\", \"class\"}:\n",
        "                return self.compound_stmt()\n",
        "            else:\n",
        "                return self.assignment_stmt()\n",
        "        else:\n",
        "            self.error(\"Unexpected token in statement\")\n",
        "\n",
        "    def compound_stmt(self):\n",
        "        if self.current_token.value == \"def\":\n",
        "            return self.func_def()\n",
        "        # Placeholder for other compound statements\n",
        "        else:\n",
        "            self.advance()\n",
        "\n",
        "    def func_def(self):\n",
        "        func_name_token = self.current_token\n",
        "        self.match(\"NAME\", \"def\")\n",
        "        func_name = self.current_token.value\n",
        "        self.match(\"NAME\")  # Match function name\n",
        "        self.match(\"LPAR\")\n",
        "        params_node = None\n",
        "        if self.current_token.type != \"RPAR\":\n",
        "            params_node = self.typedargslist()\n",
        "        self.match(\"RPAR\")\n",
        "        self.match(\"COLON\")\n",
        "        suite_node = self.suite()\n",
        "        func_node = TreeNode(\"FunctionDef\")\n",
        "        func_node.add_child(TreeNode(func_name_token.value))\n",
        "        if params_node:\n",
        "            func_node.add_child(params_node)\n",
        "        func_node.add_child(suite_node)\n",
        "        return func_node\n",
        "\n",
        "    def typedargslist(self):\n",
        "        params_node = TreeNode(\"Parameters\")\n",
        "        while self.current_token.type == \"NAME\":\n",
        "            param_name = self.current_token.value\n",
        "            params_node.add_child(TreeNode(param_name))\n",
        "            self.match(\"NAME\")\n",
        "            if self.current_token.type == \"COMMA\":\n",
        "                self.match(\"COMMA\")\n",
        "                if self.current_token.type == \"RPAR\":\n",
        "                    break\n",
        "        return params_node\n",
        "\n",
        "    def suite(self):\n",
        "        suite_node = TreeNode(\"Suite\")\n",
        "        self.match(\"NEWLINE\")\n",
        "        self.match(\"INDENT\")\n",
        "        while self.current_token.type != \"DEDENT\":\n",
        "            stmt_node = self.stmt()\n",
        "            if stmt_node:\n",
        "                suite_node.add_child(stmt_node)\n",
        "        self.match(\"DEDENT\")\n",
        "        return suite_node\n",
        "\n",
        "    def assignment_stmt(self):\n",
        "        target_node = self.target_list()\n",
        "        self.match(\"EQUAL\")\n",
        "        expr_node = self.expression_list()\n",
        "        assignment_node = TreeNode(\"Assignment\")\n",
        "        assignment_node.add_child(target_node)\n",
        "        assignment_node.add_child(expr_node)\n",
        "        return assignment_node\n",
        "\n",
        "    def target_list(self):\n",
        "        target_node = TreeNode(\"TargetList\")\n",
        "        while self.current_token.type == \"NAME\":\n",
        "            target_node.add_child(TreeNode(self.current_token.value))\n",
        "            self.match(\"NAME\")\n",
        "            if self.current_token.type == \"COMMA\":\n",
        "                self.match(\"COMMA\")\n",
        "            else:\n",
        "                break\n",
        "        return target_node\n",
        "\n",
        "    def expression_list(self):\n",
        "        expr_list_node = TreeNode(\"ExpressionList\")\n",
        "        expr_node = self.expression()\n",
        "        expr_list_node.add_child(expr_node)\n",
        "        while self.current_token.type == \"COMMA\":\n",
        "            self.match(\"COMMA\")\n",
        "            expr_node = self.expression()\n",
        "            expr_list_node.add_child(expr_node)\n",
        "        return expr_list_node\n",
        "\n",
        "    def expression(self):\n",
        "        if self.current_token.type == \"NAME\" and self.peek() == \"LPAR\":\n",
        "            return self.call()\n",
        "        else:\n",
        "            expr_node = TreeNode(\"Expression\")\n",
        "            while self.current_token and self.current_token.type not in [\"NEWLINE\", \"COMMA\", \"DEDENT\"]:\n",
        "                expr_node.add_child(TreeNode(f\"{self.current_token.type}: {self.current_token.value}\"))\n",
        "                self.advance()\n",
        "            return expr_node\n",
        "\n",
        "    def call(self):\n",
        "        call_node = TreeNode(\"Call\")\n",
        "        call_node.add_child(TreeNode(self.current_token.value))  # Function name\n",
        "        self.match(\"NAME\")\n",
        "        self.match(\"LPAR\")\n",
        "        if self.current_token.type != \"RPAR\":\n",
        "            args_node = self.argument_list()  # Parse arguments\n",
        "            call_node.add_child(args_node)\n",
        "        self.match(\"RPAR\")\n",
        "        return call_node\n",
        "\n",
        "    def argument_list(self):\n",
        "        args_node = TreeNode(\"ArgumentList\")\n",
        "        expr_node = self.expression()  # Assuming a single expression for simplicity\n",
        "        args_node.add_child(expr_node)\n",
        "        while self.current_token.type == \"COMMA\":\n",
        "            self.match(\"COMMA\")\n",
        "            expr_node = self.expression()  # Additional arguments\n",
        "            args_node.add_child(expr_node)\n",
        "        return args_node\n",
        "\n",
        "    def peek(self):\n",
        "        if self.current_index + 1 < len(self.tokens):\n",
        "            return self.tokens[self.current_index + 1].type\n",
        "        return None\n",
        "\n",
        "# Example token list would need to be defined here\n",
        "tokens = [\n",
        "    Token(\"NAME\", \"def\"), Token(\"NAME\", \"unsafe_query\"), Token(\"LPAR\"), Token(\"NAME\", \"user_input\"), Token(\"RPAR\"), Token(\"COLON\"),\n",
        "    Token(\"NEWLINE\"), Token(\"INDENT\"), Token(\"NAME\", \"query\"), Token(\"EQUAL\"),\n",
        "    Token(\"STRING\", \"\\\"SELECT * FROM users WHERE name = '\\\"\"), Token(\"PLUS\"), Token(\"NAME\", \"user_input\"), Token(\"PLUS\"),\n",
        "    Token(\"STRING\", \"\\\"'\\\"\"), Token(\"NEWLINE\"), Token(\"NAME\", \"cursor\"), Token(\"DOT\"), Token(\"NAME\", \"execute\"),\n",
        "    Token(\"LPAR\"), Token(\"NAME\", \"query\"), Token(\"RPAR\"), Token(\"NEWLINE\"), Token(\"DEDENT\"), Token(\"ENDMARKER\", \"\")\n",
        "]\n",
        "\n",
        "# Initialize and parse\n",
        "parser = Parser(tokens)\n",
        "ast = parser.file_input()"
      ],
      "metadata": {
        "colab": {
          "base_uri": "https://localhost:8080/",
          "height": 251
        },
        "id": "sYLCAXnyVySd",
        "outputId": "3c98c993-bf9f-43c6-b5bd-117d408d6ed5"
      },
      "execution_count": null,
      "outputs": [
        {
          "output_type": "error",
          "ename": "TypeError",
          "evalue": "Token.__init__() missing 1 required positional argument: 'value'",
          "traceback": [
            "\u001b[0;31m---------------------------------------------------------------------------\u001b[0m",
            "\u001b[0;31mTypeError\u001b[0m                                 Traceback (most recent call last)",
            "\u001b[0;32m<ipython-input-12-f4d106827980>\u001b[0m in \u001b[0;36m<cell line: 176>\u001b[0;34m()\u001b[0m\n\u001b[1;32m    174\u001b[0m \u001b[0;31m# Example token list would need to be defined here\u001b[0m\u001b[0;34m\u001b[0m\u001b[0;34m\u001b[0m\u001b[0m\n\u001b[1;32m    175\u001b[0m tokens = [\n\u001b[0;32m--> 176\u001b[0;31m     \u001b[0mToken\u001b[0m\u001b[0;34m(\u001b[0m\u001b[0;34m\"NAME\"\u001b[0m\u001b[0;34m,\u001b[0m \u001b[0;34m\"def\"\u001b[0m\u001b[0;34m)\u001b[0m\u001b[0;34m,\u001b[0m \u001b[0mToken\u001b[0m\u001b[0;34m(\u001b[0m\u001b[0;34m\"NAME\"\u001b[0m\u001b[0;34m,\u001b[0m \u001b[0;34m\"unsafe_query\"\u001b[0m\u001b[0;34m)\u001b[0m\u001b[0;34m,\u001b[0m \u001b[0mToken\u001b[0m\u001b[0;34m(\u001b[0m\u001b[0;34m\"LPAR\"\u001b[0m\u001b[0;34m)\u001b[0m\u001b[0;34m,\u001b[0m \u001b[0mToken\u001b[0m\u001b[0;34m(\u001b[0m\u001b[0;34m\"NAME\"\u001b[0m\u001b[0;34m,\u001b[0m \u001b[0;34m\"user_input\"\u001b[0m\u001b[0;34m)\u001b[0m\u001b[0;34m,\u001b[0m \u001b[0mToken\u001b[0m\u001b[0;34m(\u001b[0m\u001b[0;34m\"RPAR\"\u001b[0m\u001b[0;34m)\u001b[0m\u001b[0;34m,\u001b[0m \u001b[0mToken\u001b[0m\u001b[0;34m(\u001b[0m\u001b[0;34m\"COLON\"\u001b[0m\u001b[0;34m)\u001b[0m\u001b[0;34m,\u001b[0m\u001b[0;34m\u001b[0m\u001b[0;34m\u001b[0m\u001b[0m\n\u001b[0m\u001b[1;32m    177\u001b[0m     \u001b[0mToken\u001b[0m\u001b[0;34m(\u001b[0m\u001b[0;34m\"NEWLINE\"\u001b[0m\u001b[0;34m)\u001b[0m\u001b[0;34m,\u001b[0m \u001b[0mToken\u001b[0m\u001b[0;34m(\u001b[0m\u001b[0;34m\"INDENT\"\u001b[0m\u001b[0;34m)\u001b[0m\u001b[0;34m,\u001b[0m \u001b[0mToken\u001b[0m\u001b[0;34m(\u001b[0m\u001b[0;34m\"NAME\"\u001b[0m\u001b[0;34m,\u001b[0m \u001b[0;34m\"query\"\u001b[0m\u001b[0;34m)\u001b[0m\u001b[0;34m,\u001b[0m \u001b[0mToken\u001b[0m\u001b[0;34m(\u001b[0m\u001b[0;34m\"EQUAL\"\u001b[0m\u001b[0;34m)\u001b[0m\u001b[0;34m,\u001b[0m\u001b[0;34m\u001b[0m\u001b[0;34m\u001b[0m\u001b[0m\n\u001b[1;32m    178\u001b[0m     \u001b[0mToken\u001b[0m\u001b[0;34m(\u001b[0m\u001b[0;34m\"STRING\"\u001b[0m\u001b[0;34m,\u001b[0m \u001b[0;34m\"\\\"SELECT * FROM users WHERE name = '\\\"\"\u001b[0m\u001b[0;34m)\u001b[0m\u001b[0;34m,\u001b[0m \u001b[0mToken\u001b[0m\u001b[0;34m(\u001b[0m\u001b[0;34m\"PLUS\"\u001b[0m\u001b[0;34m)\u001b[0m\u001b[0;34m,\u001b[0m \u001b[0mToken\u001b[0m\u001b[0;34m(\u001b[0m\u001b[0;34m\"NAME\"\u001b[0m\u001b[0;34m,\u001b[0m \u001b[0;34m\"user_input\"\u001b[0m\u001b[0;34m)\u001b[0m\u001b[0;34m,\u001b[0m \u001b[0mToken\u001b[0m\u001b[0;34m(\u001b[0m\u001b[0;34m\"PLUS\"\u001b[0m\u001b[0;34m)\u001b[0m\u001b[0;34m,\u001b[0m\u001b[0;34m\u001b[0m\u001b[0;34m\u001b[0m\u001b[0m\n",
            "\u001b[0;31mTypeError\u001b[0m: Token.__init__() missing 1 required positional argument: 'value'"
          ]
        }
      ]
    }
  ]
}